{
 "cells": [
  {
   "cell_type": "markdown",
   "metadata": {},
   "source": [
    "# Second Project - IART - Supervised Learning\n",
    "\n",
    "### Authors\n",
    "* Afonso Dias up202006721\n",
    "* Pedro Camargo up202102365"
   ]
  },
  {
   "cell_type": "markdown",
   "metadata": {},
   "source": [
    "## Software/Library Installation \n",
    "Scikit-learn is a free software machine learning library for the Python programming language. It features various classification, regression and clustering algorithms including neural networks, support vector machines, random forests, gradient boosting, k-means and is designed to interoperate with the Python numerical and scientific libraries NumPy and SciPy.\n",
    "\n",
    "Start by installing Python, Anaconda, Jupyter Labs, NumPy, SciPy, Pandas, Scikit-Learn, MatPlotLib and Seaborn. In fact, it is only needed to install Anaconda that contain all the others following the link: https://www.anaconda.com/products/individual \n",
    "Information about the rest of the packages/libraries may be found at: \n",
    "\n",
    "•\tPython Website, https://www.python.org/   \n",
    "•\tAnaconda Website, https://www.anaconda.com/   \n",
    "•\tProject Jupyter Website, https://jupyter.org/   \n",
    "•\tNumPy Website, https://numpy.org/   \n",
    "•\tSciPy Website, https://www.scipy.org/  \n",
    "•\tPandas Website, https://pandas.pydata.org/  \n",
    "•\tScikit-Learn Website, https://scikit-learn.org/  \n",
    "•\tMatPlotLib Website, https://matplotlib.org/  \n",
    "•\tSeaborn Website, https://seaborn.pydata.org/  \n",
    "\n",
    "After installing all the libraries, please continue with this Notebook."
   ]
  },
  {
   "cell_type": "markdown",
   "metadata": {},
   "source": [
    "## About the data set\n"
   ]
  },
  {
   "cell_type": "markdown",
   "metadata": {},
   "source": [
    "We start by reading the data into a pandas DataFrame. The data comes from the \"nasa.csv\" file.\n",
    "Overall an asteroid is considered hazardous if  \n",
    "\n",
    "* MOID<=0.05 au\n",
    "* H<=22.0 \t\n",
    "Potentially Hazardous Asteroids: NEAs whose Minimum Orbit Intersection Distance (MOID) with the Earth is 0.05 au or less and whose absolute magnitude (H) is 22.0 or brighter\n"
   ]
  },
  {
   "cell_type": "code",
   "execution_count": 2,
   "metadata": {
    "metadata": {}
   },
   "outputs": [
    {
     "data": {
      "text/html": [
       "<div>\n",
       "<style scoped>\n",
       "    .dataframe tbody tr th:only-of-type {\n",
       "        vertical-align: middle;\n",
       "    }\n",
       "\n",
       "    .dataframe tbody tr th {\n",
       "        vertical-align: top;\n",
       "    }\n",
       "\n",
       "    .dataframe thead th {\n",
       "        text-align: right;\n",
       "    }\n",
       "</style>\n",
       "<table border=\"1\" class=\"dataframe\">\n",
       "  <thead>\n",
       "    <tr style=\"text-align: right;\">\n",
       "      <th></th>\n",
       "      <th>Neo Reference ID</th>\n",
       "      <th>Name</th>\n",
       "      <th>Absolute Magnitude</th>\n",
       "      <th>Est Dia in KM(min)</th>\n",
       "      <th>Est Dia in KM(max)</th>\n",
       "      <th>Est Dia in M(min)</th>\n",
       "      <th>Est Dia in M(max)</th>\n",
       "      <th>Est Dia in Miles(min)</th>\n",
       "      <th>Est Dia in Miles(max)</th>\n",
       "      <th>Est Dia in Feet(min)</th>\n",
       "      <th>Est Dia in Feet(max)</th>\n",
       "      <th>Close Approach Date</th>\n",
       "      <th>Epoch Date Close Approach</th>\n",
       "      <th>Relative Velocity km per sec</th>\n",
       "      <th>Relative Velocity km per hr</th>\n",
       "      <th>Miles per hour</th>\n",
       "      <th>Miss Dist.(Astronomical)</th>\n",
       "      <th>Miss Dist.(lunar)</th>\n",
       "      <th>Miss Dist.(kilometers)</th>\n",
       "      <th>Miss Dist.(miles)</th>\n",
       "      <th>Orbiting Body</th>\n",
       "      <th>Orbit ID</th>\n",
       "      <th>Orbit Determination Date</th>\n",
       "      <th>Orbit Uncertainity</th>\n",
       "      <th>Minimum Orbit Intersection</th>\n",
       "      <th>Jupiter Tisserand Invariant</th>\n",
       "      <th>Epoch Osculation</th>\n",
       "      <th>Eccentricity</th>\n",
       "      <th>Semi Major Axis</th>\n",
       "      <th>Inclination</th>\n",
       "      <th>Asc Node Longitude</th>\n",
       "      <th>Orbital Period</th>\n",
       "      <th>Perihelion Distance</th>\n",
       "      <th>Perihelion Arg</th>\n",
       "      <th>Aphelion Dist</th>\n",
       "      <th>Perihelion Time</th>\n",
       "      <th>Mean Anomaly</th>\n",
       "      <th>Mean Motion</th>\n",
       "      <th>Equinox</th>\n",
       "      <th>Hazardous</th>\n",
       "    </tr>\n",
       "  </thead>\n",
       "  <tbody>\n",
       "    <tr>\n",
       "      <th>0</th>\n",
       "      <td>3703080</td>\n",
       "      <td>3703080</td>\n",
       "      <td>21.6</td>\n",
       "      <td>0.127220</td>\n",
       "      <td>0.284472</td>\n",
       "      <td>127.219879</td>\n",
       "      <td>284.472297</td>\n",
       "      <td>0.079051</td>\n",
       "      <td>0.176763</td>\n",
       "      <td>417.388066</td>\n",
       "      <td>933.308089</td>\n",
       "      <td>1995-01-01</td>\n",
       "      <td>788947200000</td>\n",
       "      <td>6.115834</td>\n",
       "      <td>22017.003799</td>\n",
       "      <td>13680.509944</td>\n",
       "      <td>0.419483</td>\n",
       "      <td>163.178711</td>\n",
       "      <td>62753692.0</td>\n",
       "      <td>38993336.0</td>\n",
       "      <td>Earth</td>\n",
       "      <td>17</td>\n",
       "      <td>2017-04-06 08:36:37</td>\n",
       "      <td>5</td>\n",
       "      <td>0.025282</td>\n",
       "      <td>4.634</td>\n",
       "      <td>2458000.5</td>\n",
       "      <td>0.425549</td>\n",
       "      <td>1.407011</td>\n",
       "      <td>6.025981</td>\n",
       "      <td>314.373913</td>\n",
       "      <td>609.599786</td>\n",
       "      <td>0.808259</td>\n",
       "      <td>57.257470</td>\n",
       "      <td>2.005764</td>\n",
       "      <td>2.458162e+06</td>\n",
       "      <td>264.837533</td>\n",
       "      <td>0.590551</td>\n",
       "      <td>J2000</td>\n",
       "      <td>True</td>\n",
       "    </tr>\n",
       "    <tr>\n",
       "      <th>1</th>\n",
       "      <td>3723955</td>\n",
       "      <td>3723955</td>\n",
       "      <td>21.3</td>\n",
       "      <td>0.146068</td>\n",
       "      <td>0.326618</td>\n",
       "      <td>146.067964</td>\n",
       "      <td>326.617897</td>\n",
       "      <td>0.090762</td>\n",
       "      <td>0.202951</td>\n",
       "      <td>479.225620</td>\n",
       "      <td>1071.581063</td>\n",
       "      <td>1995-01-01</td>\n",
       "      <td>788947200000</td>\n",
       "      <td>18.113985</td>\n",
       "      <td>65210.346095</td>\n",
       "      <td>40519.173105</td>\n",
       "      <td>0.383014</td>\n",
       "      <td>148.992630</td>\n",
       "      <td>57298148.0</td>\n",
       "      <td>35603420.0</td>\n",
       "      <td>Earth</td>\n",
       "      <td>21</td>\n",
       "      <td>2017-04-06 08:32:49</td>\n",
       "      <td>3</td>\n",
       "      <td>0.186935</td>\n",
       "      <td>5.457</td>\n",
       "      <td>2458000.5</td>\n",
       "      <td>0.351674</td>\n",
       "      <td>1.107776</td>\n",
       "      <td>28.412996</td>\n",
       "      <td>136.717242</td>\n",
       "      <td>425.869294</td>\n",
       "      <td>0.718200</td>\n",
       "      <td>313.091975</td>\n",
       "      <td>1.497352</td>\n",
       "      <td>2.457795e+06</td>\n",
       "      <td>173.741112</td>\n",
       "      <td>0.845330</td>\n",
       "      <td>J2000</td>\n",
       "      <td>False</td>\n",
       "    </tr>\n",
       "    <tr>\n",
       "      <th>2</th>\n",
       "      <td>2446862</td>\n",
       "      <td>2446862</td>\n",
       "      <td>20.3</td>\n",
       "      <td>0.231502</td>\n",
       "      <td>0.517654</td>\n",
       "      <td>231.502122</td>\n",
       "      <td>517.654482</td>\n",
       "      <td>0.143849</td>\n",
       "      <td>0.321655</td>\n",
       "      <td>759.521423</td>\n",
       "      <td>1698.341531</td>\n",
       "      <td>1995-01-08</td>\n",
       "      <td>789552000000</td>\n",
       "      <td>7.590711</td>\n",
       "      <td>27326.560182</td>\n",
       "      <td>16979.661798</td>\n",
       "      <td>0.050956</td>\n",
       "      <td>19.821890</td>\n",
       "      <td>7622911.5</td>\n",
       "      <td>4736657.5</td>\n",
       "      <td>Earth</td>\n",
       "      <td>22</td>\n",
       "      <td>2017-04-06 09:20:19</td>\n",
       "      <td>0</td>\n",
       "      <td>0.043058</td>\n",
       "      <td>4.557</td>\n",
       "      <td>2458000.5</td>\n",
       "      <td>0.348248</td>\n",
       "      <td>1.458824</td>\n",
       "      <td>4.237961</td>\n",
       "      <td>259.475979</td>\n",
       "      <td>643.580228</td>\n",
       "      <td>0.950791</td>\n",
       "      <td>248.415038</td>\n",
       "      <td>1.966857</td>\n",
       "      <td>2.458120e+06</td>\n",
       "      <td>292.893654</td>\n",
       "      <td>0.559371</td>\n",
       "      <td>J2000</td>\n",
       "      <td>True</td>\n",
       "    </tr>\n",
       "    <tr>\n",
       "      <th>3</th>\n",
       "      <td>3092506</td>\n",
       "      <td>3092506</td>\n",
       "      <td>27.4</td>\n",
       "      <td>0.008801</td>\n",
       "      <td>0.019681</td>\n",
       "      <td>8.801465</td>\n",
       "      <td>19.680675</td>\n",
       "      <td>0.005469</td>\n",
       "      <td>0.012229</td>\n",
       "      <td>28.876199</td>\n",
       "      <td>64.569144</td>\n",
       "      <td>1995-01-15</td>\n",
       "      <td>790156800000</td>\n",
       "      <td>11.173874</td>\n",
       "      <td>40225.948191</td>\n",
       "      <td>24994.839864</td>\n",
       "      <td>0.285322</td>\n",
       "      <td>110.990387</td>\n",
       "      <td>42683616.0</td>\n",
       "      <td>26522368.0</td>\n",
       "      <td>Earth</td>\n",
       "      <td>7</td>\n",
       "      <td>2017-04-06 09:15:49</td>\n",
       "      <td>6</td>\n",
       "      <td>0.005512</td>\n",
       "      <td>5.093</td>\n",
       "      <td>2458000.5</td>\n",
       "      <td>0.216578</td>\n",
       "      <td>1.255903</td>\n",
       "      <td>7.905894</td>\n",
       "      <td>57.173266</td>\n",
       "      <td>514.082140</td>\n",
       "      <td>0.983902</td>\n",
       "      <td>18.707701</td>\n",
       "      <td>1.527904</td>\n",
       "      <td>2.457902e+06</td>\n",
       "      <td>68.741007</td>\n",
       "      <td>0.700277</td>\n",
       "      <td>J2000</td>\n",
       "      <td>False</td>\n",
       "    </tr>\n",
       "    <tr>\n",
       "      <th>4</th>\n",
       "      <td>3514799</td>\n",
       "      <td>3514799</td>\n",
       "      <td>21.6</td>\n",
       "      <td>0.127220</td>\n",
       "      <td>0.284472</td>\n",
       "      <td>127.219879</td>\n",
       "      <td>284.472297</td>\n",
       "      <td>0.079051</td>\n",
       "      <td>0.176763</td>\n",
       "      <td>417.388066</td>\n",
       "      <td>933.308089</td>\n",
       "      <td>1995-01-15</td>\n",
       "      <td>790156800000</td>\n",
       "      <td>9.840831</td>\n",
       "      <td>35426.991794</td>\n",
       "      <td>22012.954985</td>\n",
       "      <td>0.407832</td>\n",
       "      <td>158.646713</td>\n",
       "      <td>61010824.0</td>\n",
       "      <td>37910368.0</td>\n",
       "      <td>Earth</td>\n",
       "      <td>25</td>\n",
       "      <td>2017-04-06 08:57:58</td>\n",
       "      <td>1</td>\n",
       "      <td>0.034798</td>\n",
       "      <td>5.154</td>\n",
       "      <td>2458000.5</td>\n",
       "      <td>0.210448</td>\n",
       "      <td>1.225615</td>\n",
       "      <td>16.793382</td>\n",
       "      <td>84.629307</td>\n",
       "      <td>495.597821</td>\n",
       "      <td>0.967687</td>\n",
       "      <td>158.263596</td>\n",
       "      <td>1.483543</td>\n",
       "      <td>2.457814e+06</td>\n",
       "      <td>135.142133</td>\n",
       "      <td>0.726395</td>\n",
       "      <td>J2000</td>\n",
       "      <td>True</td>\n",
       "    </tr>\n",
       "  </tbody>\n",
       "</table>\n",
       "</div>"
      ],
      "text/plain": [
       "   Neo Reference ID     Name  Absolute Magnitude  Est Dia in KM(min)  \\\n",
       "0           3703080  3703080                21.6            0.127220   \n",
       "1           3723955  3723955                21.3            0.146068   \n",
       "2           2446862  2446862                20.3            0.231502   \n",
       "3           3092506  3092506                27.4            0.008801   \n",
       "4           3514799  3514799                21.6            0.127220   \n",
       "\n",
       "   Est Dia in KM(max)  Est Dia in M(min)  Est Dia in M(max)  \\\n",
       "0            0.284472         127.219879         284.472297   \n",
       "1            0.326618         146.067964         326.617897   \n",
       "2            0.517654         231.502122         517.654482   \n",
       "3            0.019681           8.801465          19.680675   \n",
       "4            0.284472         127.219879         284.472297   \n",
       "\n",
       "   Est Dia in Miles(min)  Est Dia in Miles(max)  Est Dia in Feet(min)  \\\n",
       "0               0.079051               0.176763            417.388066   \n",
       "1               0.090762               0.202951            479.225620   \n",
       "2               0.143849               0.321655            759.521423   \n",
       "3               0.005469               0.012229             28.876199   \n",
       "4               0.079051               0.176763            417.388066   \n",
       "\n",
       "   Est Dia in Feet(max) Close Approach Date  Epoch Date Close Approach  \\\n",
       "0            933.308089          1995-01-01               788947200000   \n",
       "1           1071.581063          1995-01-01               788947200000   \n",
       "2           1698.341531          1995-01-08               789552000000   \n",
       "3             64.569144          1995-01-15               790156800000   \n",
       "4            933.308089          1995-01-15               790156800000   \n",
       "\n",
       "   Relative Velocity km per sec  Relative Velocity km per hr  Miles per hour  \\\n",
       "0                      6.115834                 22017.003799    13680.509944   \n",
       "1                     18.113985                 65210.346095    40519.173105   \n",
       "2                      7.590711                 27326.560182    16979.661798   \n",
       "3                     11.173874                 40225.948191    24994.839864   \n",
       "4                      9.840831                 35426.991794    22012.954985   \n",
       "\n",
       "   Miss Dist.(Astronomical)  Miss Dist.(lunar)  Miss Dist.(kilometers)  \\\n",
       "0                  0.419483         163.178711              62753692.0   \n",
       "1                  0.383014         148.992630              57298148.0   \n",
       "2                  0.050956          19.821890               7622911.5   \n",
       "3                  0.285322         110.990387              42683616.0   \n",
       "4                  0.407832         158.646713              61010824.0   \n",
       "\n",
       "   Miss Dist.(miles) Orbiting Body  Orbit ID Orbit Determination Date  \\\n",
       "0         38993336.0         Earth        17      2017-04-06 08:36:37   \n",
       "1         35603420.0         Earth        21      2017-04-06 08:32:49   \n",
       "2          4736657.5         Earth        22      2017-04-06 09:20:19   \n",
       "3         26522368.0         Earth         7      2017-04-06 09:15:49   \n",
       "4         37910368.0         Earth        25      2017-04-06 08:57:58   \n",
       "\n",
       "   Orbit Uncertainity  Minimum Orbit Intersection  \\\n",
       "0                   5                    0.025282   \n",
       "1                   3                    0.186935   \n",
       "2                   0                    0.043058   \n",
       "3                   6                    0.005512   \n",
       "4                   1                    0.034798   \n",
       "\n",
       "   Jupiter Tisserand Invariant  Epoch Osculation  Eccentricity  \\\n",
       "0                        4.634         2458000.5      0.425549   \n",
       "1                        5.457         2458000.5      0.351674   \n",
       "2                        4.557         2458000.5      0.348248   \n",
       "3                        5.093         2458000.5      0.216578   \n",
       "4                        5.154         2458000.5      0.210448   \n",
       "\n",
       "   Semi Major Axis  Inclination  Asc Node Longitude  Orbital Period  \\\n",
       "0         1.407011     6.025981          314.373913      609.599786   \n",
       "1         1.107776    28.412996          136.717242      425.869294   \n",
       "2         1.458824     4.237961          259.475979      643.580228   \n",
       "3         1.255903     7.905894           57.173266      514.082140   \n",
       "4         1.225615    16.793382           84.629307      495.597821   \n",
       "\n",
       "   Perihelion Distance  Perihelion Arg  Aphelion Dist  Perihelion Time  \\\n",
       "0             0.808259       57.257470       2.005764     2.458162e+06   \n",
       "1             0.718200      313.091975       1.497352     2.457795e+06   \n",
       "2             0.950791      248.415038       1.966857     2.458120e+06   \n",
       "3             0.983902       18.707701       1.527904     2.457902e+06   \n",
       "4             0.967687      158.263596       1.483543     2.457814e+06   \n",
       "\n",
       "   Mean Anomaly  Mean Motion Equinox  Hazardous  \n",
       "0    264.837533     0.590551   J2000       True  \n",
       "1    173.741112     0.845330   J2000      False  \n",
       "2    292.893654     0.559371   J2000       True  \n",
       "3     68.741007     0.700277   J2000      False  \n",
       "4    135.142133     0.726395   J2000       True  "
      ]
     },
     "execution_count": 2,
     "metadata": {},
     "output_type": "execute_result"
    }
   ],
   "source": [
    "import pandas as pd\n",
    "\n",
    "nasa_data = pd.read_csv('nasa.csv')\n",
    "pd.set_option(\"display.max_columns\", None)\n",
    "nasa_data.head()"
   ]
  },
  {
   "cell_type": "markdown",
   "metadata": {},
   "source": [
    "Now we take a look at the distribution of our data, by printing out some summary statistic about the data set."
   ]
  },
  {
   "cell_type": "code",
   "execution_count": 3,
   "metadata": {
    "metadata": {}
   },
   "outputs": [
    {
     "name": "stdout",
     "output_type": "stream",
     "text": [
      "<class 'pandas.core.frame.DataFrame'>\n",
      "RangeIndex: 4687 entries, 0 to 4686\n",
      "Data columns (total 40 columns):\n",
      " #   Column                        Non-Null Count  Dtype  \n",
      "---  ------                        --------------  -----  \n",
      " 0   Neo Reference ID              4687 non-null   int64  \n",
      " 1   Name                          4687 non-null   int64  \n",
      " 2   Absolute Magnitude            4687 non-null   float64\n",
      " 3   Est Dia in KM(min)            4687 non-null   float64\n",
      " 4   Est Dia in KM(max)            4687 non-null   float64\n",
      " 5   Est Dia in M(min)             4687 non-null   float64\n",
      " 6   Est Dia in M(max)             4687 non-null   float64\n",
      " 7   Est Dia in Miles(min)         4687 non-null   float64\n",
      " 8   Est Dia in Miles(max)         4687 non-null   float64\n",
      " 9   Est Dia in Feet(min)          4687 non-null   float64\n",
      " 10  Est Dia in Feet(max)          4687 non-null   float64\n",
      " 11  Close Approach Date           4687 non-null   object \n",
      " 12  Epoch Date Close Approach     4687 non-null   int64  \n",
      " 13  Relative Velocity km per sec  4687 non-null   float64\n",
      " 14  Relative Velocity km per hr   4687 non-null   float64\n",
      " 15  Miles per hour                4687 non-null   float64\n",
      " 16  Miss Dist.(Astronomical)      4687 non-null   float64\n",
      " 17  Miss Dist.(lunar)             4687 non-null   float64\n",
      " 18  Miss Dist.(kilometers)        4687 non-null   float64\n",
      " 19  Miss Dist.(miles)             4687 non-null   float64\n",
      " 20  Orbiting Body                 4687 non-null   object \n",
      " 21  Orbit ID                      4687 non-null   int64  \n",
      " 22  Orbit Determination Date      4687 non-null   object \n",
      " 23  Orbit Uncertainity            4687 non-null   int64  \n",
      " 24  Minimum Orbit Intersection    4687 non-null   float64\n",
      " 25  Jupiter Tisserand Invariant   4687 non-null   float64\n",
      " 26  Epoch Osculation              4687 non-null   float64\n",
      " 27  Eccentricity                  4687 non-null   float64\n",
      " 28  Semi Major Axis               4687 non-null   float64\n",
      " 29  Inclination                   4687 non-null   float64\n",
      " 30  Asc Node Longitude            4687 non-null   float64\n",
      " 31  Orbital Period                4687 non-null   float64\n",
      " 32  Perihelion Distance           4687 non-null   float64\n",
      " 33  Perihelion Arg                4687 non-null   float64\n",
      " 34  Aphelion Dist                 4687 non-null   float64\n",
      " 35  Perihelion Time               4687 non-null   float64\n",
      " 36  Mean Anomaly                  4687 non-null   float64\n",
      " 37  Mean Motion                   4687 non-null   float64\n",
      " 38  Equinox                       4687 non-null   object \n",
      " 39  Hazardous                     4687 non-null   bool   \n",
      "dtypes: bool(1), float64(30), int64(5), object(4)\n",
      "memory usage: 1.4+ MB\n"
     ]
    }
   ],
   "source": [
    "nasa_data.info()"
   ]
  },
  {
   "cell_type": "code",
   "execution_count": null,
   "metadata": {
    "metadata": {}
   },
   "outputs": [],
   "source": [
    "nasa_data.describe()"
   ]
  },
  {
   "cell_type": "code",
   "execution_count": 5,
   "metadata": {
    "metadata": {}
   },
   "outputs": [
    {
     "data": {
      "image/png": "[encoded data removed]",
      "text/plain": [
       "<Figure size 640x480 with 1 Axes>"
      ]
     },
     "metadata": {},
     "output_type": "display_data"
    }
   ],
   "source": [
    "import matplotlib.pyplot as plt\n",
    "import seaborn as sns\n",
    "\n",
    "counts = nasa_data['Hazardous'].value_counts()\n",
    "\n",
    "sns.barplot(hue=counts.index, y=counts.values, palette=\"Blues_d\")\n",
    "\n",
    "plt.title('Comparison of Hazardous and Non-Hazardous Asteroids')\n",
    "plt.xlabel('Hazardous')\n",
    "plt.ylabel('Count')\n",
    "\n",
    "plt.show()"
   ]
  },
  {
   "cell_type": "markdown",
   "metadata": {},
   "source": [
    "# Exploratory Data Analysis - EDA\n",
    "\n",
    "In this section we are going to clean up our dataset, because as we will see there are some collumns with the same information only with diferent units which we can remove to reduce the noise produced. Also we will find which collumns contribute the most to the findings of whether or not an asteroid is hazardous or not, which is the goal of this analysis.\n"
   ]
  },
  {
   "cell_type": "markdown",
   "metadata": {},
   "source": [
    "As we can see from the output of the datasete info, there are no null values on any of the columns so we don't need to worry about null values. We can proceed to eliminate right away some of the columns which will not be usefull for our classification, such as identifiers and dates of certain findings and as already described columns which describe the same information only with diferent units."
   ]
  },
  {
   "cell_type": "code",
   "execution_count": null,
   "metadata": {
    "metadata": {}
   },
   "outputs": [],
   "source": [
    "# Here we drop the identifiers and dates of the orbit findings\n",
    "cols_to_drop = ['Neo Reference ID','Name','Orbit ID','Close Approach Date','Epoch Date Close Approach', 'Orbit Determination Date'] \n",
    "# We also drop the columns with the same information\n",
    "cols_to_drop.extend(nasa_data.filter(regex='Est Dia in (?!KM)').columns.tolist())\n",
    "cols_to_drop.extend(nasa_data.filter(regex='Miss Dist.(?!kilometers)').columns.tolist())\n",
    "cols_to_drop.extend(['Relative Velocity km per sec','Miles per hour'])\n",
    "\n",
    "nasa_data = nasa_data.drop(cols_to_drop,axis=1)\n",
    "\n",
    "nasa_data.head()"
   ]
  },
  {
   "cell_type": "markdown",
   "metadata": {},
   "source": [
    "Now we verify is the Orbiting Body and Equinox have any diferent values, if they are all the same we can simply drop them"
   ]
  },
  {
   "cell_type": "code",
   "execution_count": null,
   "metadata": {
    "metadata": {}
   },
   "outputs": [],
   "source": [
    "print(nasa_data['Equinox'].value_counts())  \n",
    "print(nasa_data['Orbiting Body'].value_counts())\n"
   ]
  },
  {
   "cell_type": "markdown",
   "metadata": {},
   "source": [
    "There are no diferent values in both of the columns so we can drop them. All of the asteroids are orbiting the Earth and all of them have the same equinox."
   ]
  },
  {
   "cell_type": "code",
   "execution_count": 8,
   "metadata": {
    "metadata": {}
   },
   "outputs": [],
   "source": [
    "nasa_data = nasa_data.drop(['Equinox','Orbiting Body'],axis=1)"
   ]
  },
  {
   "cell_type": "markdown",
   "metadata": {},
   "source": [
    "To properply process the data for the machine learning models we need to transform some of the data that are non-numerical to numerical data, such has the Hazardous column which we can transform to 1's or 0's depending wether or not they are true or false.\n",
    "\n",
    "We can use a correlation matrix to summarize a large data set and to identify patterns and make a decision according to it. We can also see which variable is more correlated to which variable, and we can visualize our results."
   ]
  },
  {
   "cell_type": "code",
   "execution_count": null,
   "metadata": {
    "metadata": {}
   },
   "outputs": [],
   "source": [
    "import numpy as np\n",
    "\n",
    "if nasa_data['Hazardous'].dtype == 'bool':\n",
    "    nasa_data['Hazardous'] = nasa_data['Hazardous'].astype(int)\n",
    "\n",
    "plt.figure(figsize = (20,20))\n",
    "sns.heatmap(nasa_data.corr(), annot=True, fmt=\".2f\", square=True, cmap='coolwarm', annot_kws={\"size\": 8})\n",
    "plt.title('Correlation matrix of numeric features')\n"
   ]
  },
  {
   "cell_type": "markdown",
   "metadata": {},
   "source": [
    "As a result from this correlation matrix we can conclude that we can also remove either the Est Dia in Km min or max because they have a correlation value of 1 in between them. We choose to remove the maximum diameter, because if we conclude that an asteroid is hazardous with it´s estimated minimum diameter we will have the same conclusion with a bigger diameter for the same asteroid."
   ]
  },
  {
   "cell_type": "code",
   "execution_count": null,
   "metadata": {
    "metadata": {}
   },
   "outputs": [],
   "source": [
    "nasa_data = nasa_data.drop('Est Dia in KM(max)',axis=1)"
   ]
  },
  {
   "cell_type": "markdown",
   "metadata": {},
   "source": [
    "We will now evalute which features contribute the best for the classification of the asteroids by using the machine learning model Random Forest Classifier.\n",
    "\n",
    "Our x is all the columns except our target which is Hazardous and our y is the actual target Hazardous."
   ]
  },
  {
   "cell_type": "code",
   "execution_count": null,
   "metadata": {
    "metadata": {}
   },
   "outputs": [],
   "source": [
    "from sklearn.model_selection import train_test_split\n",
    "from sklearn.ensemble import RandomForestClassifier\n",
    "\n",
    "x = nasa_data.drop('Hazardous', axis = 1)\n",
    "y = nasa_data['Hazardous']\n",
    "\n",
    "x_train, x_test, y_train, y_test = train_test_split(x, y, random_state=42, test_size=0.2)\n",
    "\n",
    "\n",
    "forest = RandomForestClassifier() \n",
    "forest.fit(x_train, y_train) \n",
    "importances = forest.feature_importances_ \n",
    "std = np.std([tree.feature_importances_ for tree in forest.estimators_], axis=0)\n",
    "\n",
    "forest_importances = pd.Series(importances, index=x.columns)\n",
    "\n",
    "fig, ax = plt.subplots() \n",
    "forest_importances.plot.bar(yerr=std, ax=ax) \n",
    "ax.set_title(\"Feature importances using MDI\") \n",
    "ax.set_ylabel(\"Mean decrease in impurity\") \n",
    "plt.tight_layout() \n",
    "plt.show()"
   ]
  },
  {
   "cell_type": "markdown",
   "metadata": {},
   "source": [
    "Now that we know which features are the most important, we can train our model with those"
   ]
  },
  {
   "cell_type": "code",
   "execution_count": null,
   "metadata": {
    "metadata": {}
   },
   "outputs": [],
   "source": [
    "from sklearn.metrics import accuracy_score, classification_report, confusion_matrix\n",
    "\n",
    "# Function definition to be able to used for other models aswell\n",
    "def training(model, name, axes):\n",
    "    model.fit(x_train, y_train)\n",
    "    pred = model.predict(x_test)\n",
    "    score = accuracy_score(y_test, pred)\n",
    "    report = classification_report(y_test, pred)\n",
    "    cm = confusion_matrix(y_test, pred)\n",
    "    sns.heatmap(cm, annot=True, ax=axes)\n",
    "    axes.set_title(\"{}: {}%\".format(name, round(score*100, 2)))\n",
    "    return score*100, report\n",
    "\n",
    "rfc = RandomForestClassifier() \n",
    "\n",
    "fig, ax = plt.subplots(figsize=(10, 7))\n",
    "\n",
    "score, report = training(rfc,'RandomForestClassifier',ax)\n",
    "plt.show()"
   ]
  },
  {
   "cell_type": "code",
   "execution_count": null,
   "metadata": {
    "metadata": {}
   },
   "outputs": [],
   "source": [
    "print(\"### Random Forest Classifier ###\")\n",
    "print(report)"
   ]
  },
  {
   "cell_type": "markdown",
   "metadata": {},
   "source": [
    "• The (0,0) cell with a value around 800 represents the true negatives (TN), meaning the model correctly predicted 800 instances as non-hazardous.  \n",
    "• The (1,1) cell with a value around 200 represents the true positives (TP), meaning the model correctly predicted 200 instances as hazardous.  \n",
    "• The cells (1,0) and (0,1) with values lower than 100 represent the false negatives (FN) and false positives (FP) respectively. FN is when the model incorrectly predicted a hazardous instance as non-hazardous, and FP is when the model incorrectly predicted a non-hazardous instance as hazardous.  \n",
    "\n",
    "Overall our RFC model had a score of about 99.57% with this iteration.All of our scores seem very good, they are all around the 0.99-1 values, but this very likely is a cause of a very unbalanced dataset, because as we can see in our support column there is about 800 values with 0(non-Hazardous) and about 150 with 1 (Hazardous).\n",
    "\n",
    "Now a good thing to do is to compare our RFC model with other machine learning models. The first one we are going to take a look at is the XGBoost"
   ]
  },
  {
   "cell_type": "code",
   "execution_count": null,
   "metadata": {
    "metadata": {}
   },
   "outputs": [],
   "source": [
    "from xgboost import XGBClassifier\n",
    "\n",
    "xgBoost = XGBClassifier()\n",
    "\n",
    "score, report = training(xgBoost, 'XGBoost', ax)\n",
    "print(report)\n",
    "plt.show()\n"
   ]
  },
  {
   "cell_type": "markdown",
   "metadata": {},
   "source": [
    "# References\n",
    "\n",
    "• CNEOS Website, Article about how NEO (Near Earth Objects) are classified    \n",
    "https://cneos.jpl.nasa.gov/about/neo_groups.html  \n",
    "\n",
    "• Article about the benefits and usage of a correlation matrix  \n",
    "https://builtin.com/data-science/correlation-matrix\n",
    "\n",
    "• Kaggle project's used for comparison and research\n",
    "https://www.kaggle.com/code/lovishbansal123/asteroid-classification-xgboost-classifier\n",
    "https://www.kaggle.com/code/a3amat02/asteroids-eda-classification#Scaling-selected-features\n",
    "\n",
    "• Article about best practices for an imbalanced data set\n",
    "https://rihab-feki.medium.com/imbalanced-data-best-practices-f3b6d0999f38"
   ]
  }
 ],
 "metadata": {
  "kernelspec": {
   "display_name": "Python 3",
   "language": "python",
   "name": "python3"
  },
  "language_info": {
   "codemirror_mode": {
    "name": "ipython",
    "version": 3
   },
   "file_extension": ".py",
   "mimetype": "text/x-python",
   "name": "python",
   "nbconvert_exporter": "python",
   "pygments_lexer": "ipython3",
   "version": "3.11.9"
  }
 },
 "nbformat": 4,
 "nbformat_minor": 2
}
